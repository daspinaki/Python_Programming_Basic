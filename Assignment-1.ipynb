{
 "cells": [
  {
   "cell_type": "code",
   "execution_count": 1,
   "metadata": {},
   "outputs": [
    {
     "name": "stdout",
     "output_type": "stream",
     "text": [
      "Hello Python\n"
     ]
    }
   ],
   "source": [
    "print(\"Hello Python\")"
   ]
  },
  {
   "cell_type": "code",
   "execution_count": 5,
   "metadata": {},
   "outputs": [
    {
     "name": "stdout",
     "output_type": "stream",
     "text": [
      "9 2.0\n"
     ]
    }
   ],
   "source": [
    "#Arithmetic Operations\n",
    "a= 3\n",
    "b =6\n",
    "print(a+b,b/a)"
   ]
  },
  {
   "cell_type": "code",
   "execution_count": 19,
   "metadata": {},
   "outputs": [
    {
     "name": "stdout",
     "output_type": "stream",
     "text": [
      "Enter 1st side4\n",
      "Enter 2nt side3\n",
      "Enter 3rd side5\n"
     ]
    }
   ],
   "source": [
    "#Area of Python\n",
    "import math \n",
    "a = int(input(\"Enter 1st side\"))\n",
    "b = int(input(\"Enter 2nt side\"))\n",
    "c = int(input(\"Enter 3rd side\"))\n",
    "\n",
    "def check_valid_triangle(a,b,c):\n",
    "    if a+b >= c or a+c>=b or b+c>=a:\n",
    "        return True\n",
    "    else:\n",
    "        return False\n",
    "\n",
    "def find_Area(a,b,c):\n",
    "    if(check_valid_triangle(a,b,c)):\n",
    "        s = (a  + b + c) /2\n",
    "        area = math.sqrt(s*(s-a)*(s-b)*(s-c))\n",
    "        return area\n",
    "    else:\n",
    "        print(\"No triangle possible\")"
   ]
  },
  {
   "cell_type": "code",
   "execution_count": 20,
   "metadata": {},
   "outputs": [],
   "source": [
    "k = find_Area(a,b,c)"
   ]
  },
  {
   "cell_type": "code",
   "execution_count": 21,
   "metadata": {},
   "outputs": [
    {
     "data": {
      "text/plain": [
       "6.0"
      ]
     },
     "execution_count": 21,
     "metadata": {},
     "output_type": "execute_result"
    }
   ],
   "source": [
    "k"
   ]
  },
  {
   "cell_type": "code",
   "execution_count": 22,
   "metadata": {},
   "outputs": [],
   "source": [
    "#Swap two variables\n",
    "a = 4\n",
    "b = 7\n",
    "a,b = b,a\n"
   ]
  },
  {
   "cell_type": "code",
   "execution_count": 23,
   "metadata": {},
   "outputs": [
    {
     "data": {
      "text/plain": [
       "(7, 4)"
      ]
     },
     "execution_count": 23,
     "metadata": {},
     "output_type": "execute_result"
    }
   ],
   "source": [
    "a,b"
   ]
  },
  {
   "cell_type": "code",
   "execution_count": 25,
   "metadata": {},
   "outputs": [
    {
     "name": "stdout",
     "output_type": "stream",
     "text": [
      "4\n"
     ]
    }
   ],
   "source": [
    "#Random Functions\n",
    "import random\n",
    "\n",
    "print(random.randint(3,9))"
   ]
  },
  {
   "cell_type": "code",
   "execution_count": null,
   "metadata": {},
   "outputs": [],
   "source": []
  }
 ],
 "metadata": {
  "kernelspec": {
   "display_name": "Python 3",
   "language": "python",
   "name": "python3"
  },
  "language_info": {
   "codemirror_mode": {
    "name": "ipython",
    "version": 3
   },
   "file_extension": ".py",
   "mimetype": "text/x-python",
   "name": "python",
   "nbconvert_exporter": "python",
   "pygments_lexer": "ipython3",
   "version": "3.8.5"
  }
 },
 "nbformat": 4,
 "nbformat_minor": 4
}
