{
 "cells": [
  {
   "cell_type": "markdown",
   "metadata": {},
   "source": [
    "1. Write a Python Program to Find LCM?\n",
    "2. Write a Python Program to Find HCF?\n",
    "3. Write a Python Program to Convert Decimal to Binary, Octal and Hexadecimal?\n",
    "4. Write a Python Program To Find ASCII value of a character?\n",
    "5. Write a Python Program to Make a Simple Calculator with 4 basic mathematical operations?"
   ]
  },
  {
   "cell_type": "markdown",
   "metadata": {},
   "source": [
    "1. Write a Python Program to Find LCM?"
   ]
  },
  {
   "cell_type": "code",
   "execution_count": 14,
   "metadata": {},
   "outputs": [
    {
     "name": "stdout",
     "output_type": "stream",
     "text": [
      " Enter 2 Numbers   15 80\n",
      "240\n"
     ]
    }
   ],
   "source": [
    "a,b = input(\" Enter 2 Numbers   \").split()\n",
    "a = int(a)\n",
    "b = int(b)\n",
    "def lcm(a,b):\n",
    "    if a>b:\n",
    "        g=a\n",
    "    else:\n",
    "        g =b\n",
    "    while(True):\n",
    "        if g%a==0 and g%b==0:\n",
    "            return g\n",
    "            break\n",
    "        g+=1\n",
    "        \n",
    "        \n",
    "l = lcm(a,b)\n",
    "print(l)"
   ]
  },
  {
   "cell_type": "markdown",
   "metadata": {},
   "source": [
    "2. Write a Python Program to Find HCF?"
   ]
  },
  {
   "cell_type": "code",
   "execution_count": 11,
   "metadata": {},
   "outputs": [
    {
     "name": "stdout",
     "output_type": "stream",
     "text": [
      " Enter 2 Numbers   4 6\n",
      "GCD IS  2\n"
     ]
    }
   ],
   "source": [
    "#Euclidean Approach\n",
    "a,b = input(\" Enter 2 Numbers   \").split()\n",
    "a = int(a)\n",
    "b = int(b)\n",
    "def gcd(a,b):\n",
    "    if b==0:\n",
    "        return a\n",
    "    \n",
    "    return gcd(b,a%b)\n",
    "\n",
    "k = gcd(a,b)\n",
    "print(\"GCD IS \" , k)"
   ]
  },
  {
   "cell_type": "markdown",
   "metadata": {},
   "source": [
    "3. Write a Python Program to Convert Decimal to Binary, Octal and Hexadecimal?"
   ]
  },
  {
   "cell_type": "code",
   "execution_count": 5,
   "metadata": {},
   "outputs": [
    {
     "name": "stdout",
     "output_type": "stream",
     "text": [
      "Enter a num11\n",
      "1011\n",
      "15\n",
      "13\n"
     ]
    }
   ],
   "source": [
    "n = int(input(\"Enter a num\"))\n",
    "class Conversion:\n",
    "    def __init__(self,n):\n",
    "        self.num = n\n",
    "    \n",
    "    def DriverFunction(self,base):\n",
    "        res = ''\n",
    "        n = self.num\n",
    "        while n!=0:\n",
    "            #print(n,\"n\")\n",
    "            r = n%base\n",
    "            #print(r,\"r\")\n",
    "            res = str(r) + res\n",
    "            #print(res,\"res\")\n",
    "            n//=base\n",
    "        print(res)\n",
    "    def decimalToBinary(self):\n",
    "        self.DriverFunction(2)\n",
    "    def decimalToOctal(self):\n",
    "        self.DriverFunction(8)\n",
    "    def decimalToHexa(self):\n",
    "        self.DriverFunction(6)\n",
    "a = Conversion(n)\n",
    "a.decimalToBinary()\n",
    "a.decimalToHexa()\n",
    "a.decimalToOctal()"
   ]
  },
  {
   "cell_type": "markdown",
   "metadata": {},
   "source": [
    "4. Write a Python Program To Find ASCII value of a character?"
   ]
  },
  {
   "cell_type": "code",
   "execution_count": 2,
   "metadata": {},
   "outputs": [
    {
     "name": "stdout",
     "output_type": "stream",
     "text": [
      "Enter a charr\n",
      "114\n"
     ]
    }
   ],
   "source": [
    "s  = input(\"Enter a char\")\n",
    "def ASCII_num(s):\n",
    "    return ord(s)\n",
    "a = ASCII_num(s)\n",
    "print(a)"
   ]
  },
  {
   "cell_type": "markdown",
   "metadata": {},
   "source": [
    "5. Write a Python Program to Make a Simple Calculator with 4 basic mathematical operations?"
   ]
  },
  {
   "cell_type": "code",
   "execution_count": 11,
   "metadata": {},
   "outputs": [
    {
     "name": "stdout",
     "output_type": "stream",
     "text": [
      "9   -4   30   1.75  \n"
     ]
    }
   ],
   "source": [
    "\n",
    "class calculator:\n",
    "    def add(self,a,b):\n",
    "        self.a = a\n",
    "        self.b = b\n",
    "        return self.a + self.b\n",
    "    def sub(self,a,b):\n",
    "        self.a = a\n",
    "        self.b = b\n",
    "        return self.a - self.b\n",
    "    def Mul(self,a,b):\n",
    "        self.a = a\n",
    "        self.b = b\n",
    "        return self.a * self.b\n",
    "    def div(self,a,b):\n",
    "        self.a = a\n",
    "        self.b = b\n",
    "        return self.a / self.b\n",
    "    \n",
    "c = calculator()\n",
    "k = c.add(4,5)\n",
    "l = c.sub(5,9)\n",
    "m = c.Mul(6,5)\n",
    "n = c.div(7,4)\n",
    "print(k,\" \",l,\" \",m,\" \", n, \" \")"
   ]
  },
  {
   "cell_type": "code",
   "execution_count": null,
   "metadata": {},
   "outputs": [],
   "source": []
  }
 ],
 "metadata": {
  "kernelspec": {
   "display_name": "Python 3",
   "language": "python",
   "name": "python3"
  },
  "language_info": {
   "codemirror_mode": {
    "name": "ipython",
    "version": 3
   },
   "file_extension": ".py",
   "mimetype": "text/x-python",
   "name": "python",
   "nbconvert_exporter": "python",
   "pygments_lexer": "ipython3",
   "version": "3.8.5"
  }
 },
 "nbformat": 4,
 "nbformat_minor": 4
}
