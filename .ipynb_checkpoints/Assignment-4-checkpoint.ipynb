{
 "cells": [
  {
   "cell_type": "markdown",
   "metadata": {},
   "source": [
    "1. Write a Python Program to Find the Factorial of a Number?\n",
    "2. Write a Python Program to Display the multiplication Table?\n",
    "3. Write a Python Program to Print the Fibonacci sequence?\n",
    "4. Write a Python Program to Check Armstrong Number?\n",
    "5. Write a Python Program to Find Armstrong Number in an Interval?\n",
    "6. Write a Python Program to Find the Sum of Natural Numbers?"
   ]
  },
  {
   "cell_type": "code",
   "execution_count": null,
   "metadata": {},
   "outputs": [],
   "source": [
    "1. Write a Python Program to Find the Factorial of a Number?"
   ]
  },
  {
   "cell_type": "code",
   "execution_count": 7,
   "metadata": {},
   "outputs": [
    {
     "name": "stdout",
     "output_type": "stream",
     "text": [
      "Enter the Number7\n",
      "5040\n"
     ]
    }
   ],
   "source": [
    "a = int(input(\"Enter the Number\"))\n",
    "def factorial(a):\n",
    "    if a == 0 or a==1:\n",
    "        return 1\n",
    "    i = 2\n",
    "    fac =1\n",
    "    while i<=a:\n",
    "        fac *= i\n",
    "        i+=1\n",
    "    return fac\n",
    "\n",
    "k = factorial(a)\n",
    "print(k)"
   ]
  },
  {
   "cell_type": "code",
   "execution_count": null,
   "metadata": {},
   "outputs": [],
   "source": [
    "2. Write a Python Program to Display the multiplication Table?"
   ]
  },
  {
   "cell_type": "code",
   "execution_count": 11,
   "metadata": {},
   "outputs": [
    {
     "name": "stdout",
     "output_type": "stream",
     "text": [
      "Enter the Number10\n",
      "10  x  1  =  10\n",
      "10  x  2  =  20\n",
      "10  x  3  =  30\n",
      "10  x  4  =  40\n",
      "10  x  5  =  50\n",
      "10  x  6  =  60\n",
      "10  x  7  =  70\n",
      "10  x  8  =  80\n",
      "10  x  9  =  90\n",
      "10  x  10  =  100\n"
     ]
    }
   ],
   "source": [
    "\"\"\"5  table\n",
    "    5 x 1 = 5\n",
    "    5 x 2 = 10\n",
    "    and so on \n",
    "    .\n",
    "    .\n",
    "    5 x 10 = 50\n",
    "\"\"\"\n",
    "a = int(input(\"Enter the Number\"))\n",
    "def multiTable(a):\n",
    "    i=1\n",
    "    while i<=a:\n",
    "        print(a,\" x \", i , \" = \", a*i)\n",
    "        i+=1\n",
    "        \n",
    "multiTable(a)"
   ]
  },
  {
   "cell_type": "code",
   "execution_count": null,
   "metadata": {},
   "outputs": [],
   "source": [
    "3. Write a Python Program to Print the Fibonacci sequence?"
   ]
  },
  {
   "cell_type": "code",
   "execution_count": 8,
   "metadata": {},
   "outputs": [
    {
     "name": "stdout",
     "output_type": "stream",
     "text": [
      "Enter the Number11\n",
      "0\n",
      "1\n",
      "1\n",
      "2\n",
      "3\n",
      "5\n",
      "8\n",
      "13\n",
      "21\n",
      "34\n",
      "55\n"
     ]
    }
   ],
   "source": [
    "n = int(input(\"Enter the Number\"))\n",
    "def fibSeq(n):\n",
    "    a = 0\n",
    "    b = 1\n",
    "#     for i in range(1, n+1):\n",
    "#         yield a\n",
    "#         a,b = b,a+b\n",
    "#         i+=1   \n",
    "    i=1\n",
    "    while i<= n:\n",
    "        \n",
    "        yield a\n",
    "        a,b = b,a+b\n",
    "        i+=1    \n",
    "fibSeq(n)\n",
    "for i in fibSeq(n):\n",
    "    print(i)"
   ]
  },
  {
   "cell_type": "markdown",
   "metadata": {},
   "source": [
    "4. Write a Python Program to Check Armstrong Number?"
   ]
  },
  {
   "cell_type": "code",
   "execution_count": 42,
   "metadata": {},
   "outputs": [
    {
     "name": "stdout",
     "output_type": "stream",
     "text": [
      "Enter the Number407\n",
      "Armstrong Num\n"
     ]
    }
   ],
   "source": [
    "import math\n",
    "a = int(input(\"Enter the Number\"))\n",
    "def armStrong(a):\n",
    "    A = a\n",
    "    sum_digitCube = 0\n",
    "    while a!=0:\n",
    "        digit  = a%10\n",
    "#         print(digit,\"Digit\")\n",
    "        sum_digitCube +=math.pow(digit,3)\n",
    "        #This method converts both arguments into a float.\n",
    "#         print(sum_digitCube)\n",
    "        a = a//10\n",
    "    if A==sum_digitCube:\n",
    "#         print(sum_digitCube)\n",
    "        print(\"Armstrong Num\")\n",
    "    else:\n",
    "#         print(sum_digitCube)\n",
    "        print(\"Not Armstrong\")\n",
    "        \n",
    "armStrong(a)"
   ]
  },
  {
   "cell_type": "raw",
   "metadata": {},
   "source": [
    "5. Write a Python Program to Find Armstrong Number in an Interval?"
   ]
  },
  {
   "cell_type": "code",
   "execution_count": 44,
   "metadata": {},
   "outputs": [
    {
     "name": "stdout",
     "output_type": "stream",
     "text": [
      "Enter the Number1001\n",
      "1\n",
      "153\n",
      "370\n",
      "371\n",
      "407\n"
     ]
    }
   ],
   "source": [
    "import math\n",
    "a = int(input(\"Enter the Number\"))\n",
    "def armStrong(a):\n",
    "    A = a\n",
    "    sum_digitCube = 0\n",
    "    if a==0:\n",
    "        return 1\n",
    "    while a!=0:\n",
    "        digit  = a%10\n",
    "#         print(digit,\"Digit\")\n",
    "        sum_digitCube +=math.pow(digit,3)\n",
    "        #This method converts both arguments into a float.\n",
    "#         print(sum_digitCube)\n",
    "        a = a//10\n",
    "    if A==sum_digitCube:\n",
    "#         print(sum_digitCube)\n",
    "        return 1\n",
    "    else:\n",
    "#         print(sum_digitCube)\n",
    "        return 0\n",
    "def rangeArmstrong(a):\n",
    "    for i in range(1,a+1):\n",
    "        if armStrong(i)==1:\n",
    "            yield i\n",
    "rangeArmstrong(a)\n",
    "for i in rangeArmstrong(a):\n",
    "    print(i)"
   ]
  },
  {
   "cell_type": "markdown",
   "metadata": {},
   "source": [
    "6. Write a Python Program to Find the Sum of Natural Numbers?"
   ]
  },
  {
   "cell_type": "code",
   "execution_count": 56,
   "metadata": {},
   "outputs": [
    {
     "name": "stdout",
     "output_type": "stream",
     "text": [
      "Enter the Number4\n",
      "10\n"
     ]
    }
   ],
   "source": [
    "a = int(input(\"Enter the Number\"))\n",
    "def sumNat(b):\n",
    "    return (b*(b+1))//2\n",
    "c = sumNat(a)\n",
    "print(c)"
   ]
  },
  {
   "cell_type": "code",
   "execution_count": null,
   "metadata": {},
   "outputs": [],
   "source": []
  }
 ],
 "metadata": {
  "kernelspec": {
   "display_name": "Python 3",
   "language": "python",
   "name": "python3"
  },
  "language_info": {
   "codemirror_mode": {
    "name": "ipython",
    "version": 3
   },
   "file_extension": ".py",
   "mimetype": "text/x-python",
   "name": "python",
   "nbconvert_exporter": "python",
   "pygments_lexer": "ipython3",
   "version": "3.8.5"
  }
 },
 "nbformat": 4,
 "nbformat_minor": 4
}
